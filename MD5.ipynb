{
 "cells": [
  {
   "cell_type": "markdown",
   "source": [
    "# MD5"
   ],
   "metadata": {
    "collapsed": false
   },
   "id": "a5555967a31f5137"
  },
  {
   "cell_type": "markdown",
   "source": [
    "## Wypełnianie wiadomości $M$"
   ],
   "metadata": {
    "collapsed": false
   },
   "id": "4afcc8a457cb10be"
  },
  {
   "cell_type": "code",
   "outputs": [],
   "source": [
    "def padding(x):\n",
    "    k = len(x)\n",
    "    if len(x)%512 <= 447:\n",
    "        x += \"1\"\n",
    "        zeros_count = 512 - len(x)%512 - 64\n",
    "        x += \"0\"*zeros_count\n",
    "        zeros_count = 512 - 448 - len(bin(k)[2:])\n",
    "        x += \"0\"*zeros_count\n",
    "        x += bin(k)[2:]\n",
    "        return x\n",
    "    elif len(x)%512 > 447:\n",
    "        x += \"1\"\n",
    "        zeros_count = 512 - len(x)%512\n",
    "        x += \"0\"*zeros_count\n",
    "        x += \"0\"*448\n",
    "        zeros_count = 512 - 448 - len(bin(k)[2:])\n",
    "        x += \"0\"*zeros_count\n",
    "        x += bin(k)[2:]\n",
    "        return x"
   ],
   "metadata": {
    "collapsed": false,
    "ExecuteTime": {
     "end_time": "2025-06-19T19:45:27.195969900Z",
     "start_time": "2025-06-19T19:45:27.162583200Z"
    }
   },
   "id": "35e2a0cb0bbfe761",
   "execution_count": 1
  },
  {
   "cell_type": "markdown",
   "source": [
    "## Funkcje logiczne"
   ],
   "metadata": {
    "collapsed": false
   },
   "id": "2f4e226974b48e15"
  },
  {
   "cell_type": "code",
   "outputs": [],
   "source": [
    "def SS(x, y):\n",
    "   for i in range(y):\n",
    "       x = x[1:] + x[0] \n",
    "   return x\n",
    "\n",
    "def XOR(a, b):\n",
    "    return ''.join('0' if a[i] == b[i] else '1' for i in range(len(a)))\n",
    "\n",
    "def AND(a, b):\n",
    "    return ''.join('1' if a[i] == b[i] == \"1\" else '0' for i in range(len(a)))\n",
    "\n",
    "def OR(a, b):\n",
    "    return ''.join('1' if a[i] == '1' or b[i] == \"1\" else '0' for i in range(len(a)))\n",
    "\n",
    "def NOT(x):\n",
    "    return ''.join('1' if x[i] == '0' else '0' for i in range(len(x)))"
   ],
   "metadata": {
    "collapsed": false,
    "ExecuteTime": {
     "end_time": "2025-06-19T19:45:27.195969900Z",
     "start_time": "2025-06-19T19:45:27.173240500Z"
    }
   },
   "id": "4bebfc38aba5b9c7",
   "execution_count": 2
  },
  {
   "cell_type": "markdown",
   "source": [
    "## Funkcje wewnątrz rundy \n",
    "#### (dodawanie w $\\mathbb{Z}_{2^{32}}$)"
   ],
   "metadata": {
    "collapsed": false
   },
   "id": "25da95a945a2c204"
  },
  {
   "cell_type": "code",
   "outputs": [],
   "source": [
    "def F(B, C, D):\n",
    "    return OR(AND(B, C), AND(NOT(B), D))\n",
    "def G(B, C, D):\n",
    "    return OR(AND(B, D), AND(C, NOT(D)))\n",
    "def H(B, C, D):\n",
    "    return XOR(XOR(B, C), D)\n",
    "def I(B, C, D):\n",
    "    return XOR(C, OR(B, NOT(D)))\n",
    "\n",
    "\n",
    "# Adding in Z_2^32\n",
    "\n",
    "def ADD(a, b):\n",
    "    a = int(a, 2)\n",
    "    b = int(b, 2)\n",
    "    x = bin((a + b)%(2**32))[2:]\n",
    "    x = x.zfill(32)\n",
    "    return x\n"
   ],
   "metadata": {
    "collapsed": false,
    "ExecuteTime": {
     "end_time": "2025-06-19T19:45:27.202223900Z",
     "start_time": "2025-06-19T19:45:27.191362700Z"
    }
   },
   "id": "63706c6b982b1261",
   "execution_count": 3
  },
  {
   "cell_type": "markdown",
   "source": [
    "## Generowanie $M_j$"
   ],
   "metadata": {
    "collapsed": false
   },
   "id": "d6fa771ca5d0b100"
  },
  {
   "cell_type": "code",
   "outputs": [],
   "source": [
    "def split_512(x):\n",
    "    M = []\n",
    "    for m in range(len(x)//512):\n",
    "        M.append(x[m*512:(m+1)*512])\n",
    "    return M\n",
    "\n",
    "def divblock(M):\n",
    "    B = M[0:512]\n",
    "    W_i = [B[32*i:32*i+32] for i in range(0,16)]\n",
    "    B = W_i\n",
    "    return B\n"
   ],
   "metadata": {
    "collapsed": false,
    "ExecuteTime": {
     "end_time": "2025-06-19T19:45:27.210624100Z",
     "start_time": "2025-06-19T19:45:27.202223900Z"
    }
   },
   "id": "b3bf3abea942af04",
   "execution_count": 4
  },
  {
   "cell_type": "markdown",
   "source": [
    "## Wartości $K_i$ i $S_i$"
   ],
   "metadata": {
    "collapsed": false
   },
   "id": "dd619eabe8ca2936"
  },
  {
   "cell_type": "code",
   "outputs": [],
   "source": [
    "import math\n",
    "\n",
    "K = [bin(int(abs(math.sin(i+1)*(2**32))))[2:].zfill(32) for i in range(64)]\n",
    "\n",
    "II = [[7, 12, 17, 22], \n",
    "      [5,  9, 14, 20],\n",
    "      [4, 11, 16, 23],\n",
    "      [6, 10, 15, 21]]\n",
    "\n",
    "S = [II[i // 16 ][i % 4] for i in range(64)]\n",
    "\n",
    "# A = 0x67452301\n",
    "# B = 0x10325476\n",
    "# C = 0x98badcfe\n",
    "# D = 0xefcdab89\n",
    "# \n",
    "# HH = [bin(A)[2:].zfill(32), bin(B)[2:].zfill(32), bin(C)[2:], bin(D)[2:]]\n",
    "\n",
    "HH = [bin(int(\"01234567\", 16))[2:].zfill(32), bin(int(\"89abcdef\", 16))[2:].zfill(32), bin(int(\"fedcba98\", 16))[2:].zfill(32), bin(int(\"76543210\", 16))[2:].zfill(32)]"
   ],
   "metadata": {
    "collapsed": false,
    "ExecuteTime": {
     "end_time": "2025-06-19T19:45:27.217445300Z",
     "start_time": "2025-06-19T19:45:27.210624100Z"
    }
   },
   "id": "b1f0218f316b9e26",
   "execution_count": 5
  },
  {
   "cell_type": "markdown",
   "source": [
    "# MD5"
   ],
   "metadata": {
    "collapsed": false
   },
   "id": "3163604b605825b1"
  },
  {
   "cell_type": "code",
   "outputs": [],
   "source": [
    "def MD5(m):\n",
    "    \n",
    "# ASCII standard conversion\n",
    "\n",
    "    M = ''.join(format(ord(char), '08b') for char in m)\n",
    "    M = split_512(padding(M))\n",
    "    \n",
    "# Block [0-n]\n",
    "\n",
    "    H_ = HH.copy()\n",
    "\n",
    "    for n in range(len(M)):\n",
    "        if n == 0:\n",
    "            CV = H_.copy()\n",
    "\n",
    "        Mi = divblock(M[n])\n",
    "\n",
    "            \n",
    "# CV = [a, b, c, d]\n",
    "\n",
    "# Round [0-63]\n",
    "\n",
    "        for i in range(64):\n",
    "            if i < 16:\n",
    "                T = ADD(SS(ADD(ADD(ADD(F(CV[1], CV[2], CV[3]), CV[0]), Mi[i]), K[i]), S[i]), CV[1])\n",
    "                CV[0] = CV[3]\n",
    "                CV[3] = CV[2]\n",
    "                CV[2] = CV[1]\n",
    "                CV[1] = T\n",
    "\n",
    "            elif 16 <= i < 32: \n",
    "                T = ADD(SS(ADD(ADD(ADD(G(CV[1], CV[2], CV[3]), CV[0]), Mi[(5*i+1) % 16]), K[i]), S[i]), CV[1])\n",
    "                CV[0] = CV[3]\n",
    "                CV[3] = CV[2]\n",
    "                CV[2] = CV[1]\n",
    "                CV[1] = T\n",
    "\n",
    "            elif 32 <= i < 48:\n",
    "                T = ADD(SS(ADD(ADD(ADD(H(CV[1], CV[2], CV[3]), CV[0]), Mi[(3*i+5) % 16]), K[i]), S[i]), CV[1])\n",
    "                CV[0] = CV[3]\n",
    "                CV[3] = CV[2]\n",
    "                CV[2] = CV[1]\n",
    "                CV[1] = T\n",
    "                \n",
    "            elif 48 <= i < 64:\n",
    "                T = ADD(SS(ADD(ADD(ADD(I(CV[1], CV[2], CV[3]), CV[0]), Mi[7*i % 16]), K[i]), S[i]), CV[1])\n",
    "                CV[0] = CV[3]\n",
    "                CV[3] = CV[2]\n",
    "                CV[2] = CV[1]\n",
    "                CV[1] = T\n",
    "                    \n",
    "        for i in range(len(CV)):\n",
    "            CV[i] = ADD(CV[i], H_[i])\n",
    "            \n",
    "            \n",
    "# Initializing the H value (a-d) for the next block\n",
    "\n",
    "        H_ = CV.copy()\n",
    "\n",
    "# Make hash from vector H = CV\n",
    "\n",
    "    xhash = ''\n",
    "    for i in H_:\n",
    "        xhash += i\n",
    "    return f\"The MD5 hash of the data is: {hex(int(xhash, 2))[2:]}\""
   ],
   "metadata": {
    "collapsed": false,
    "ExecuteTime": {
     "end_time": "2025-06-19T19:45:27.245823100Z",
     "start_time": "2025-06-19T19:45:27.224812300Z"
    }
   },
   "id": "dfeae5359cfc0852",
   "execution_count": 6
  },
  {
   "cell_type": "code",
   "outputs": [
    {
     "data": {
      "text/plain": "'The MD5 hash of the data is: 2520df5474d1b17877bf086504076c48'"
     },
     "execution_count": 7,
     "metadata": {},
     "output_type": "execute_result"
    }
   ],
   "source": [
    "MD5(\"\")"
   ],
   "metadata": {
    "collapsed": false,
    "ExecuteTime": {
     "end_time": "2025-06-19T19:45:27.247887Z",
     "start_time": "2025-06-19T19:45:27.229173800Z"
    }
   },
   "id": "a9365d82da1f804e",
   "execution_count": 7
  },
  {
   "cell_type": "code",
   "outputs": [
    {
     "name": "stdout",
     "output_type": "stream",
     "text": [
      "The MD5 hash of the data is: d41d8cd98f00b204e9800998ecf8427e\n"
     ]
    }
   ],
   "source": [
    "import hashlib\n",
    "\n",
    "# Create an MD5 hash object\n",
    "md5_hash = hashlib.md5()\n",
    "\n",
    "# Update the hash object with the data you want to hash\n",
    "data = b\"\"\n",
    "md5_hash.update(data)\n",
    "\n",
    "# Get the hexadecimal representation of the hash\n",
    "hash_hex = md5_hash.hexdigest()\n",
    "\n",
    "print(f\"The MD5 hash of the data is: {hash_hex}\")"
   ],
   "metadata": {
    "collapsed": false,
    "ExecuteTime": {
     "end_time": "2025-06-19T19:45:27.264639700Z",
     "start_time": "2025-06-19T19:45:27.247887Z"
    }
   },
   "id": "2aad22cae4c9ea2f",
   "execution_count": 8
  }
 ],
 "metadata": {
  "kernelspec": {
   "display_name": "Python 3",
   "language": "python",
   "name": "python3"
  },
  "language_info": {
   "codemirror_mode": {
    "name": "ipython",
    "version": 2
   },
   "file_extension": ".py",
   "mimetype": "text/x-python",
   "name": "python",
   "nbconvert_exporter": "python",
   "pygments_lexer": "ipython2",
   "version": "2.7.6"
  }
 },
 "nbformat": 4,
 "nbformat_minor": 5
}
