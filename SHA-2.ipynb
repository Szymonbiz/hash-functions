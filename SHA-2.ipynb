{
 "cells": [
  {
   "cell_type": "markdown",
   "source": [
    "# SHA-2"
   ],
   "metadata": {
    "collapsed": false
   },
   "id": "89cedf4c097ba8b4"
  },
  {
   "cell_type": "markdown",
   "source": [
    "## Wypełnianie wiadomości $M$"
   ],
   "metadata": {
    "collapsed": false
   },
   "id": "17ca7f25ff21f505"
  },
  {
   "cell_type": "code",
   "source": [
    "def padding(x):\n",
    "    k = len(x)\n",
    "    if len(x)%512 <= 447:\n",
    "        x += \"1\"\n",
    "        zeros_count = 512 - len(x)%512 - 64\n",
    "        x += \"0\"*zeros_count\n",
    "        zeros_count = 512 - 448 - len(bin(k)[2:])\n",
    "        x += \"0\"*zeros_count\n",
    "        x += bin(k)[2:]\n",
    "        return x\n",
    "    elif len(x)%512 > 447:\n",
    "        x += \"1\"\n",
    "        zeros_count = 512 - len(x)%512\n",
    "        x += \"0\"*zeros_count\n",
    "        x += \"0\"*448\n",
    "        zeros_count = 512 - 448 - len(bin(k)[2:])\n",
    "        x += \"0\"*zeros_count\n",
    "        x += bin(k)[2:]\n",
    "        return x"
   ],
   "metadata": {
    "collapsed": false,
    "ExecuteTime": {
     "end_time": "2025-06-19T19:45:19.603761500Z",
     "start_time": "2025-06-19T19:45:19.538629700Z"
    }
   },
   "id": "f5908bad8e737a2e",
   "outputs": [],
   "execution_count": 1
  },
  {
   "cell_type": "markdown",
   "source": [
    "## Funkcje logiczne"
   ],
   "metadata": {
    "collapsed": false
   },
   "id": "2073959d9c97665c"
  },
  {
   "cell_type": "code",
   "source": [
    "\n",
    "def SHR(x, y):\n",
    "   for i in range(y):\n",
    "       x = \"0\" + x[:-1]\n",
    "   return x\n",
    "\n",
    "def ROTR(x, y):\n",
    "   for i in range(y):\n",
    "       x = x[-1] + x[:-1]\n",
    "   return x\n",
    "\n",
    "\n",
    "        \n",
    "def XOR(a, b):\n",
    "    return ''.join('0' if a[i] == b[i] else '1' for i in range(len(a)))\n",
    "\n",
    "def AND(a, b):\n",
    "    return ''.join('1' if a[i] == b[i] == \"1\" else '0' for i in range(len(a)))\n",
    "\n",
    "def NOT(x):\n",
    "    return ''.join('1' if x[i] == '0' else '0' for i in range(len(x)))\n",
    "\n",
    "\n",
    "\n",
    "def signum_1(x):\n",
    "    return XOR( XOR(ROTR(x, 17), ROTR(x, 19)), SHR(x, 10))\n",
    "\n",
    "def signum_0(x):\n",
    "    return XOR( XOR(ROTR(x, 7), ROTR(x, 18)), SHR(x, 3))"
   ],
   "metadata": {
    "collapsed": false,
    "ExecuteTime": {
     "end_time": "2025-06-19T19:45:19.603761500Z",
     "start_time": "2025-06-19T19:45:19.547457400Z"
    }
   },
   "id": "3c2da4155230f104",
   "outputs": [],
   "execution_count": 2
  },
  {
   "cell_type": "markdown",
   "source": [
    "## Funkcje wewnątrz rundy \n",
    "#### (dodawanie w $\\mathbb{Z}_{2^{32}}$)"
   ],
   "metadata": {
    "collapsed": false
   },
   "id": "cba187470d1fb543"
  },
  {
   "cell_type": "code",
   "source": [
    "def MAJ(a, b, c):\n",
    "    return XOR(XOR(AND(a, b), AND(a, c)), AND(b, c))\n",
    "def Ep_0(a):\n",
    "    return XOR(XOR(ROTR(a, 2), ROTR(a, 13)), ROTR(a, 22))\n",
    "def Ep_1(e):\n",
    "    return XOR(XOR(ROTR(e, 6), ROTR(e, 11)), ROTR(e, 25))\n",
    "def CH(e, f, g):\n",
    "    return XOR(AND(e, f), AND(NOT(e), g))\n",
    "\n",
    "# Adding in Z_2^32\n",
    "\n",
    "def ADD(a, b):\n",
    "    a = int(a, 2)\n",
    "    b = int(b, 2)\n",
    "    x = bin((a + b)%(2**32))[2:]\n",
    "    x = x.zfill(32)\n",
    "    return x"
   ],
   "metadata": {
    "collapsed": false,
    "ExecuteTime": {
     "end_time": "2025-06-19T19:45:19.605769100Z",
     "start_time": "2025-06-19T19:45:19.556804400Z"
    }
   },
   "id": "83c0151978dc5469",
   "outputs": [],
   "execution_count": 3
  },
  {
   "cell_type": "markdown",
   "source": [
    "## Wzor na Wartość $W_t$"
   ],
   "metadata": {
    "collapsed": false
   },
   "id": "58e631f96b53a675"
  },
  {
   "cell_type": "code",
   "source": [
    "def split_512(x):\n",
    "    M = []\n",
    "    for m in range(len(x)//512):\n",
    "        M.append(x[m*512:(m+1)*512])\n",
    "    return M\n",
    "\n",
    "def divblock(M):\n",
    "    B = M[0:512]\n",
    "    W_i = [B[32*i:32*i+32] for i in range(0,16)]\n",
    "    B = W_i\n",
    "    return B\n",
    "\n",
    "def Wt(Wt_2, Wt_7, Wt_15, Wt_16):\n",
    "    W7 = int(Wt_7, 2)\n",
    "    W16 = int(Wt_16, 2)\n",
    "    W_i = bin((int(signum_1(Wt_2), 2) + W7 + int(signum_0(Wt_15), 2) + W16)%(2**32))[2:].zfill(32)\n",
    "    return W_i"
   ],
   "metadata": {
    "collapsed": false,
    "ExecuteTime": {
     "end_time": "2025-06-19T19:45:19.605769100Z",
     "start_time": "2025-06-19T19:45:19.566806300Z"
    }
   },
   "id": "9383285c78d2ee4f",
   "outputs": [],
   "execution_count": 4
  },
  {
   "cell_type": "markdown",
   "source": [
    "## Wartości $K_i$ i $H_i$"
   ],
   "metadata": {
    "collapsed": false
   },
   "id": "9f18467aa8be5011"
  },
  {
   "cell_type": "code",
   "source": [
    "import math\n",
    "\n",
    "def fractional_to_binary(n):\n",
    "    fractional_part = n - int(n)\n",
    "\n",
    "    FRAC_N = []\n",
    "\n",
    "    while fractional_part != 0 and len(FRAC_N) < 32:\n",
    "        fractional_part *= 2\n",
    "        digit = int(fractional_part)\n",
    "        FRAC_N.append(str(digit))\n",
    "        fractional_part -= digit\n",
    "\n",
    "    binary_fractional_part_str = ''.join(FRAC_N)\n",
    "    \n",
    "    return binary_fractional_part_str\n",
    "\n",
    "# List of 64 prime numbers\n",
    "\n",
    "Prime = [2, 3, 5, 7, 11, 13, 17, 19, 23, 29, 31, 37, 41, 43, 47, 53, 59, 61, 67, 71, 73, 79, 83, 89, 97, 101, 103, 107, 109, 113, 127, 131, 137, 139, 149, 151, 157, 163, 167, 173, 179, 181, 191, 193, 197, 199, 211, 223, 227, 229, 233, 239, 241, 251, 257, 263, 269, 271, 277, 281, 283, 293, 307, 311]\n",
    "\n",
    "\n",
    "# Generating values K and H\n",
    "\n",
    "H = [i for i in range(8)]\n",
    "K = [i for i in range(64)]\n",
    "\n",
    "for i in range(8):\n",
    "    H[i] = fractional_to_binary(math.sqrt(Prime[i]))\n",
    "\n",
    "for i in range(64):\n",
    "    K[i] = fractional_to_binary(math.cbrt(Prime[i]))\n"
   ],
   "metadata": {
    "collapsed": false,
    "ExecuteTime": {
     "end_time": "2025-06-19T19:45:19.605769100Z",
     "start_time": "2025-06-19T19:45:19.574245Z"
    }
   },
   "id": "85aca5d7dbf12a3d",
   "outputs": [],
   "execution_count": 5
  },
  {
   "cell_type": "markdown",
   "source": [
    "# SHA-2"
   ],
   "metadata": {
    "collapsed": false
   },
   "id": "cd7e07986606b86a"
  },
  {
   "cell_type": "code",
   "source": [
    "def SHA_2(m = \"\"):\n",
    "    \n",
    "# ASCII standard conversion\n",
    "\n",
    "    M = ''.join(format(ord(char), '08b') for char in m)\n",
    "    M = split_512(padding(M))\n",
    "    \n",
    "# Block [0-n]\n",
    "\n",
    "    H_ = H.copy()\n",
    "\n",
    "    for n in range(len(M)):\n",
    "        if n == 0:\n",
    "            V = H_.copy()\n",
    "            \n",
    "# V = [a, b, c, d, e, f, g, h]\n",
    "        \n",
    "# Make (W_0 - W_63)\n",
    "\n",
    "        W = divblock(M[n])\n",
    "        for i in range(16, 64):\n",
    "            W.append(Wt(W[i-2],W[i-7], W[i-15], W[i-16]))\n",
    "            \n",
    "# Round [0-63]\n",
    "\n",
    "        for i in range(64):\n",
    "            T1 = ADD(ADD(ADD(ADD(CH(V[4], V[5], V[6]), V[7]), Ep_1(V[4])), W[i]), K[i])\n",
    "            T2 = ADD(MAJ(V[0], V[1], V[2]), Ep_0(V[0]))\n",
    "            V[7] = V[6] \n",
    "            V[6] = V[5]\n",
    "            V[5] = V[4]\n",
    "            V[4] = ADD(V[3], T1)\n",
    "            V[3] = V[2]\n",
    "            V[2] = V[1]\n",
    "            V[1] = V[0]\n",
    "            V[0] = ADD(T1, T2)\n",
    "\n",
    "        for i in range(len(V)):\n",
    "            V[i] = ADD(V[i], H_[i])\n",
    "            \n",
    "# Initializing the H value (a-f) for the next block\n",
    "\n",
    "        H_ = V.copy()\n",
    "\n",
    "# Make hash from vector H = V\n",
    "\n",
    "    xhash = ''\n",
    "    for i in H_:\n",
    "        xhash += i\n",
    "    return f\"The SHA2 hash of the data is: {hex(int(xhash, 2))[2:].zfill(64)}\""
   ],
   "metadata": {
    "collapsed": false,
    "ExecuteTime": {
     "end_time": "2025-06-19T19:45:19.605769100Z",
     "start_time": "2025-06-19T19:45:19.590446100Z"
    }
   },
   "id": "f2103762bc95ede8",
   "outputs": [],
   "execution_count": 6
  },
  {
   "cell_type": "code",
   "source": [
    "SHA_2('')"
   ],
   "metadata": {
    "collapsed": false,
    "ExecuteTime": {
     "end_time": "2025-06-19T19:45:19.623311Z",
     "start_time": "2025-06-19T19:45:19.593896500Z"
    }
   },
   "id": "94dd4a18a3017805",
   "outputs": [
    {
     "data": {
      "text/plain": "'The SHA2 hash of the data is: e3b0c44298fc1c149afbf4c8996fb92427ae41e4649b934ca495991b7852b855'"
     },
     "execution_count": 7,
     "metadata": {},
     "output_type": "execute_result"
    }
   ],
   "execution_count": 7
  },
  {
   "cell_type": "code",
   "source": [
    "from hashlib import sha256\n",
    "\n",
    "input_ = \"\"\n",
    "sha256(input_.encode('utf-8')).hexdigest()"
   ],
   "metadata": {
    "collapsed": false,
    "ExecuteTime": {
     "end_time": "2025-06-19T19:45:19.626803400Z",
     "start_time": "2025-06-19T19:45:19.623311Z"
    }
   },
   "id": "946713446917d3f0",
   "outputs": [
    {
     "data": {
      "text/plain": "'e3b0c44298fc1c149afbf4c8996fb92427ae41e4649b934ca495991b7852b855'"
     },
     "execution_count": 8,
     "metadata": {},
     "output_type": "execute_result"
    }
   ],
   "execution_count": 8
  }
 ],
 "metadata": {
  "kernelspec": {
   "display_name": "Python 3",
   "language": "python",
   "name": "python3"
  },
  "language_info": {
   "codemirror_mode": {
    "name": "ipython",
    "version": 2
   },
   "file_extension": ".py",
   "mimetype": "text/x-python",
   "name": "python",
   "nbconvert_exporter": "python",
   "pygments_lexer": "ipython2",
   "version": "2.7.6"
  }
 },
 "nbformat": 4,
 "nbformat_minor": 5
}
